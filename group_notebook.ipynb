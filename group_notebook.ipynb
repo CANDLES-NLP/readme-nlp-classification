{
 "cells": [
  {
   "cell_type": "markdown",
   "id": "ee8cb7a0",
   "metadata": {},
   "source": [
    "# Group Notebook"
   ]
  },
  {
   "cell_type": "code",
   "execution_count": 1,
   "id": "d783e50a",
   "metadata": {},
   "outputs": [
    {
     "ename": "ModuleNotFoundError",
     "evalue": "No module named 'utils'",
     "output_type": "error",
     "traceback": [
      "\u001b[0;31m---------------------------------------------------------------------------\u001b[0m",
      "\u001b[0;31mModuleNotFoundError\u001b[0m                       Traceback (most recent call last)",
      "\u001b[0;32m<ipython-input-1-7d7f2b80b647>\u001b[0m in \u001b[0;36m<module>\u001b[0;34m\u001b[0m\n\u001b[1;32m     25\u001b[0m \u001b[0;32mfrom\u001b[0m \u001b[0mbs4\u001b[0m \u001b[0;32mimport\u001b[0m \u001b[0mBeautifulSoup\u001b[0m\u001b[0;34m\u001b[0m\u001b[0;34m\u001b[0m\u001b[0m\n\u001b[1;32m     26\u001b[0m \u001b[0;32mimport\u001b[0m \u001b[0mre\u001b[0m\u001b[0;34m\u001b[0m\u001b[0;34m\u001b[0m\u001b[0m\n\u001b[0;32m---> 27\u001b[0;31m \u001b[0;32mfrom\u001b[0m \u001b[0msrc\u001b[0m \u001b[0;32mimport\u001b[0m \u001b[0mprepare\u001b[0m\u001b[0;34m,\u001b[0m \u001b[0macquire\u001b[0m\u001b[0;34m\u001b[0m\u001b[0;34m\u001b[0m\u001b[0m\n\u001b[0m\u001b[1;32m     28\u001b[0m \u001b[0;34m\u001b[0m\u001b[0m\n\u001b[1;32m     29\u001b[0m \u001b[0;34m\u001b[0m\u001b[0m\n",
      "\u001b[0;32m~/codeup-data-science/readme-nlp-classification/src/acquire.py\u001b[0m in \u001b[0;36m<module>\u001b[0;34m\u001b[0m\n\u001b[1;32m      2\u001b[0m \u001b[0;32mimport\u001b[0m \u001b[0mpandas\u001b[0m \u001b[0;32mas\u001b[0m \u001b[0mpd\u001b[0m\u001b[0;34m\u001b[0m\u001b[0;34m\u001b[0m\u001b[0m\n\u001b[1;32m      3\u001b[0m \u001b[0;32mimport\u001b[0m \u001b[0menv\u001b[0m\u001b[0;34m\u001b[0m\u001b[0;34m\u001b[0m\u001b[0m\n\u001b[0;32m----> 4\u001b[0;31m \u001b[0;32mimport\u001b[0m \u001b[0mutils\u001b[0m\u001b[0;34m\u001b[0m\u001b[0;34m\u001b[0m\u001b[0m\n\u001b[0m\u001b[1;32m      5\u001b[0m \u001b[0;34m\u001b[0m\u001b[0m\n\u001b[1;32m      6\u001b[0m \u001b[0;31m#GitHub personal access token and username for use with API\u001b[0m\u001b[0;34m\u001b[0m\u001b[0;34m\u001b[0m\u001b[0;34m\u001b[0m\u001b[0m\n",
      "\u001b[0;31mModuleNotFoundError\u001b[0m: No module named 'utils'"
     ]
    }
   ],
   "source": [
    "import warnings\n",
    "warnings.filterwarnings(\"ignore\")\n",
    "\n",
    "import pandas as pd\n",
    "import numpy as np\n",
    "\n",
    "%matplotlib inline\n",
    "import matplotlib.pyplot as plt\n",
    "import seaborn as sns\n",
    "\n",
    "# import eli5\n",
    "\n",
    "from sklearn.model_selection import cross_val_score\n",
    "from sklearn import metrics\n",
    "from sklearn.model_selection import train_test_split\n",
    "\n",
    "from sklearn.linear_model import LogisticRegression\n",
    "from sklearn.dummy import DummyClassifier\n",
    "from sklearn.ensemble import RandomForestClassifier\n",
    "from sklearn.naive_bayes import GaussianNB\n",
    "from sklearn.neighbors import KNeighborsClassifier\n",
    "from sklearn.feature_extraction.text import TfidfVectorizer\n",
    "\n",
    "import requests\n",
    "from bs4 import BeautifulSoup \n",
    "import re\n",
    "from src import prepare, acquire\n",
    "\n",
    "\n",
    "\n",
    "plt.style.use('classic')"
   ]
  },
  {
   "cell_type": "markdown",
   "id": "0d93c6fa",
   "metadata": {},
   "source": [
    "# Acquire"
   ]
  },
  {
   "cell_type": "code",
   "execution_count": null,
   "id": "01686f39",
   "metadata": {},
   "outputs": [],
   "source": [
    "acquire.scrape_github_data()"
   ]
  },
  {
   "cell_type": "markdown",
   "id": "51a67b62",
   "metadata": {},
   "source": [
    "https://github.com/search?q=candles&type=Repositories"
   ]
  },
  {
   "cell_type": "code",
   "execution_count": null,
   "id": "b25bd7e7",
   "metadata": {},
   "outputs": [],
   "source": [
    "# this was my attempt at getting readme data from github\n",
    "\n",
    "# url = 'https://github.com/search?q=candles&type=Repositories'\n",
    "# headers={'user-agent': 'Codeup DS Germain'} \n",
    "# response = requests.get(url, headers=headers)\n",
    "\n",
    "# soup = BeautifulSoup(response.text)\n",
    "\n",
    "\n",
    "# article = soup.select('div', class_='jupiterx-post-content')\n",
    "\n",
    "# art_dict = {'title':[], 'content':[]}\n",
    "\n",
    "# soup.title.string"
   ]
  },
  {
   "cell_type": "markdown",
   "id": "3f2a6ae3",
   "metadata": {},
   "source": [
    "# Explore"
   ]
  },
  {
   "cell_type": "code",
   "execution_count": null,
   "id": "5c1d5aae",
   "metadata": {},
   "outputs": [],
   "source": [
    "# getting the data \n",
    "df = pd.read_csv('data/processed.csv')"
   ]
  },
  {
   "cell_type": "code",
   "execution_count": null,
   "id": "3b243213",
   "metadata": {},
   "outputs": [],
   "source": [
    "df.head() # check_yo_head"
   ]
  },
  {
   "cell_type": "code",
   "execution_count": null,
   "id": "b2398dcd",
   "metadata": {},
   "outputs": [],
   "source": [
    "df.groupby('language').sum()"
   ]
  },
  {
   "cell_type": "code",
   "execution_count": null,
   "id": "79601337",
   "metadata": {},
   "outputs": [],
   "source": [
    "df.language.value_counts()"
   ]
  },
  {
   "cell_type": "code",
   "execution_count": null,
   "id": "11533c6c",
   "metadata": {},
   "outputs": [],
   "source": [
    "import nltk\n",
    "import unicodedata"
   ]
  },
  {
   "cell_type": "code",
   "execution_count": null,
   "id": "16c6bb3c",
   "metadata": {},
   "outputs": [],
   "source": [
    "go = clean(' '.join(df[df.language == 'Go'].language))\n",
    "java = clean(' '.join(df[df.language == 'Java'].language))\n",
    "python = clean(' '.join(df[df.language == 'Python'].language))\n",
    "C_plus_plus = clean(' '.join(df[df.language == 'C++'].language))\n",
    "Swift = clean(' '.join(df[df.language == 'Swift'].language))\n",
    "javascript = clean(' '.join(df[df.language == 'JavaScript'].language))\n",
    "c = clean(' '.join(df[df.language == 'C'].language))\n",
    "all_languages = clean(' '.join(df.language))"
   ]
  },
  {
   "cell_type": "code",
   "execution_count": null,
   "id": "799723ec",
   "metadata": {},
   "outputs": [],
   "source": [
    "go_freq = pd.Series(go).value_counts()\n",
    "java_freq = pd.Series(java).value_counts()\n",
    "python_freq = pd.Series(python).value_counts()\n",
    "c_plus_plus_freq = pd.Series(C_plus_plus).value_counts()\n",
    "Swift_freq = pd.Series(Swift).value_counts()\n",
    "javascript_freq = pd.Series(javascript).value_counts()\n",
    "c_script = pd.Series(c).value_counts()\n",
    "\n",
    "all_freq = pd.Series(all_languages).value_counts()\n",
    "\n",
    "java_freq.head()"
   ]
  },
  {
   "cell_type": "code",
   "execution_count": null,
   "id": "b1f66cef",
   "metadata": {},
   "outputs": [],
   "source": [
    "word_counts = (pd.concat([all_freq, go_freq, java_freq, python_freq, c_plus_plus_freq, Swift_freq, javascript_freq, c_script], axis=1, sort=True)\n",
    "                .set_axis(['all', 'go', 'java', 'python', 'c++', 'swift', 'js', 'c'], axis=1, inplace=False)\n",
    "                .fillna(0)\n",
    "                .apply(lambda s: s.astype(int)))\n",
    "\n",
    "word_counts.head()"
   ]
  },
  {
   "cell_type": "code",
   "execution_count": null,
   "id": "699d0285",
   "metadata": {},
   "outputs": [],
   "source": [
    "word_counts.sort_values(by='all', ascending=False).head(10)"
   ]
  },
  {
   "cell_type": "code",
   "execution_count": null,
   "id": "2cb3e987",
   "metadata": {},
   "outputs": [],
   "source": [
    "word_counts.plot.barh(stacked=True)\n",
    "plt.title('Proportion of Coding Languages')"
   ]
  },
  {
   "cell_type": "code",
   "execution_count": null,
   "id": "2720db73",
   "metadata": {},
   "outputs": [],
   "source": [
    "from wordcloud import WordCloud"
   ]
  },
  {
   "cell_type": "code",
   "execution_count": null,
   "id": "477b1d15",
   "metadata": {},
   "outputs": [],
   "source": [
    "all_cloud = WordCloud(background_color='white', height=1000, width=400).generate(' '.join(all_languages))\n",
    "\n",
    "plt.figure(figsize=(10, 10))\n",
    "axs = [plt.axes([0, 0, .5, 1]), plt.axes([.5, .5, .5, .5]), plt.axes([.5, 0, .5, .5])]\n",
    "\n",
    "axs[0].imshow(all_cloud)\n",
    "\n",
    "axs[0].set_title('All Languages')\n",
    "\n",
    "for ax in axs: ax.axis('off')"
   ]
  },
  {
   "cell_type": "code",
   "execution_count": null,
   "id": "3c2b57ee",
   "metadata": {},
   "outputs": [],
   "source": [
    "wordcloud = WordCloud(background_color=\"white\",width=1600, height=800).generate(' '.join(all_languages))\n",
    "plt.figure( figsize=(20,10), facecolor='k')\n",
    "plt.imshow(wordcloud)\n",
    "plt.axis(\"off\")"
   ]
  },
  {
   "cell_type": "markdown",
   "id": "85e6c848-502f-4570-b5d7-b7b1e70b0f99",
   "metadata": {},
   "source": [
    "# Next"
   ]
  },
  {
   "cell_type": "code",
   "execution_count": null,
   "id": "743386d6-5669-4536-8fe8-9581f2a9dbd1",
   "metadata": {},
   "outputs": [],
   "source": [
    "import matplotlib.pyplot as plt\n",
    "import seaborn as sns\n",
    "\n",
    "import nltk\n",
    "import unicodedata\n",
    "import re\n",
    "import json\n",
    "import pandas as pd \n",
    "# # Opening JSON file\n",
    "# f = open('data.json',)\n",
    " \n",
    "# returns JSON object as\n",
    "# a dictionary\n",
    "# data = json.load(f)"
   ]
  },
  {
   "cell_type": "code",
   "execution_count": null,
   "id": "22fca5de-4daa-457a-ac21-6ba432759741",
   "metadata": {},
   "outputs": [],
   "source": [
    "df = pd.read_csv('data/processed.csv')"
   ]
  },
  {
   "cell_type": "code",
   "execution_count": null,
   "id": "94ef6753-6dd0-4e3c-ae5a-2bf36cc69a69",
   "metadata": {},
   "outputs": [],
   "source": [
    "#data is cleaned \n",
    "df.info()"
   ]
  },
  {
   "cell_type": "code",
   "execution_count": null,
   "id": "ec0c1e6c-967b-446a-af9e-fa5a851b2242",
   "metadata": {},
   "outputs": [],
   "source": [
    "df.language.value_counts()"
   ]
  },
  {
   "cell_type": "code",
   "execution_count": null,
   "id": "16c3beed-c2b7-43dc-81cb-32dff2c7c038",
   "metadata": {},
   "outputs": [],
   "source": [
    "df.readme.unique().value_counts()"
   ]
  },
  {
   "cell_type": "code",
   "execution_count": null,
   "id": "3df328bf-fa0e-441a-b3a9-ac92f4b63fd4",
   "metadata": {},
   "outputs": [],
   "source": [
    "# import plotly.express as px\n",
    "\n",
    "# fig = px.histogram(df, x='lang_freq', template='plotly_white', title='readme counts by language')\n",
    "# fig.update_xaxes(categoryorder='total descending').update_yaxes(title='Number of readme counts')\n",
    "# fig.show()\n",
    "\n",
    "read_me_df = df[['readme', 'language']].copy()"
   ]
  },
  {
   "cell_type": "code",
   "execution_count": null,
   "id": "33594a61-bf13-42e7-80c7-2396d059beb4",
   "metadata": {},
   "outputs": [],
   "source": [
    "#how many language observations do we have?\n",
    "read_me_df.language.value_counts(normalize = True)"
   ]
  },
  {
   "cell_type": "code",
   "execution_count": null,
   "id": "f1d78d7f-5cca-4cda-9195-5ebee35f08fd",
   "metadata": {},
   "outputs": [],
   "source": [
    "read_me_df['language'].value_counts()\n",
    "# Go            106\n",
    "# Python        102\n",
    "# Java          102\n",
    "# Swift         100\n",
    "# C++           100\n",
    "# JavaScript     97\n",
    "# C              94"
   ]
  },
  {
   "cell_type": "code",
   "execution_count": null,
   "id": "f4a6785a-2b2f-4664-a844-15e4b68c323d",
   "metadata": {},
   "outputs": [],
   "source": [
    "# combine all readmes in single string by language\n",
    "def clean(language):\n",
    "    '''Simplified text cleaning function'''\n",
    "    language = language.lower()\n",
    "    language = unicodedata.normalize('NFKD', language).encode('ascii', 'ignore').decode('utf-8', 'ignore')\n",
    "    return re.sub(r\"[^a-z0-9\\s]\", '', language)"
   ]
  },
  {
   "cell_type": "code",
   "execution_count": null,
   "id": "a46e192d-91b2-4a84-9447-422a12f50930",
   "metadata": {},
   "outputs": [],
   "source": [
    "go_words = clean(' '.join(read_me_df[read_me_df.language == 'Go'].readme))\n",
    "python_words = clean(' '.join(read_me_df[read_me_df.language == 'Python'].readme))\n",
    "java_words = clean(' '.join(read_me_df[read_me_df.language == 'Java'].readme))\n",
    "cplus_plus_words = clean(' '.join(read_me_df[read_me_df.language == 'C++'].readme))\n",
    "javascript_words = clean(' '.join(read_me_df[read_me_df.language == 'JavaScript'].readme))\n",
    "swift_words = clean(' '.join(read_me_df[read_me_df.language == 'Swift'].readme))\n",
    "c_words = clean(' '.join(read_me_df[read_me_df.language == 'C'].readme))"
   ]
  },
  {
   "cell_type": "code",
   "execution_count": null,
   "id": "65f9e444-e465-4f63-8940-b7f8eab7b2fa",
   "metadata": {},
   "outputs": [],
   "source": [
    "all_words = clean(' '.join(read_me_df.readme))"
   ]
  },
  {
   "cell_type": "code",
   "execution_count": null,
   "id": "e30a9566-e4cf-433d-b853-0930cd6fc8f8",
   "metadata": {},
   "outputs": [],
   "source": [
    "# Represent text as word frequencies.\n",
    "\n",
    "go_freq = pd.Series(go_words.split()).value_counts()\n",
    "python_freq = pd.Series(python_words.split()).value_counts()\n",
    "java_freq = pd.Series(java_words.split()).value_counts()\n",
    "cplus_plus_freq = pd.Series(cplus_plus_words.split()).value_counts()\n",
    "javascript_freq = pd.Series(javascript_words.split()).value_counts()\n",
    "swift_freq = pd.Series(swift_words.split()).value_counts()\n",
    "c_freq = pd.Series(c_words.split()).value_counts()\n",
    "all_freq = pd.Series(all_words.split()).value_counts()"
   ]
  },
  {
   "cell_type": "code",
   "execution_count": null,
   "id": "c2fb0ae3-040d-4931-a2c4-68e07aea8425",
   "metadata": {},
   "outputs": [],
   "source": [
    "pd.concat([go_freq, python_freq, java_freq, cplus_plus_freq, javascript_freq, swift_freq, c_freq, all_freq], axis = 1).fillna(0).astype(int)"
   ]
  },
  {
   "cell_type": "code",
   "execution_count": null,
   "id": "698194ca-7e47-4af4-accb-944e09a92faa",
   "metadata": {},
   "outputs": [],
   "source": [
    "# concat all frequencies together into a dataframe\n",
    "\n",
    "word_counts = pd.concat([go_freq, python_freq, java_freq, cplus_plus_freq, javascript_freq, swift_freq, c_freq, all_freq], axis=1).fillna(0).astype(int)\n",
    "word_counts.columns = ['Go', 'Python', 'Java', 'C++', 'JavaScript', 'Swift', 'C', 'all']\n",
    "word_counts.head()"
   ]
  },
  {
   "cell_type": "code",
   "execution_count": null,
   "id": "ea84d032-bb72-4f2a-b948-779eafdfd992",
   "metadata": {},
   "outputs": [],
   "source": [
    "# sort by 'all'\n",
    "\n",
    "word_counts.sort_values('all', ascending=False).head(20)"
   ]
  },
  {
   "cell_type": "code",
   "execution_count": null,
   "id": "3fe2a7f1-34ec-4f4e-a5ae-875765982dbf",
   "metadata": {},
   "outputs": [],
   "source": [
    "# word_counts.sort_values(['Go', 'Python', 'Java', 'C++', 'JavaScript', 'Swift', 'C'], ascending=[True, False]).head(20)\n",
    "\n",
    "\n",
    "plt.rc('font', size=18)\n",
    "word_counts.sort_values('all', ascending=False).head(20)[['Go', 'Python', 'Java', 'C++', 'JavaScript', 'Swift', 'C']].plot.barh()\n",
    "plt.title('Count by Language for the top 20 most frequent words')\n",
    "\n",
    "\n",
    "\n",
    "\n",
    "plt.figure(figsize=(16, 9))\n",
    "plt.rc('font', size=16)\n",
    "\n",
    "(word_counts.sort_values('all', ascending=False)\n",
    " .head(20)\n",
    " .apply(lambda row: row/row['all'], axis = 1)\n",
    " .drop(columns = 'all')\n",
    " .sort_values(by = 'Go')\n",
    " .plot.barh(stacked = True, width = 1, ec = 'k')\n",
    ")\n",
    "plt.title('% of Go vs all for the most common 20 words')"
   ]
  },
  {
   "cell_type": "code",
   "execution_count": null,
   "id": "4c27ff06-1565-40ce-a1a6-4cfeaa6e6148",
   "metadata": {},
   "outputs": [],
   "source": [
    "# =============================================================================\n",
    "# Looking at Bigrams\n",
    "# ============================================================================="
   ]
  },
  {
   "cell_type": "code",
   "execution_count": null,
   "id": "2fe2f05f-d12f-43be-942e-8bdfbcc0c6ad",
   "metadata": {},
   "outputs": [],
   "source": [
    "# =============================================================================\n",
    "# #Go Bigrams\n",
    "# =============================================================================\n",
    "list(nltk.bigrams(go_words.split()))\n",
    "\n",
    "# what are the most common bigrams? by language bigrams? \n",
    "# visualize 20 most common bigrams, most common by language bigrams\n",
    "# ngrams\n",
    "\n",
    "# Find the most common bigram and then find a representative text\n",
    "\n",
    "pd.Series(nltk.bigrams(go_words.split())).value_counts().head(10).plot.barh()\n",
    "plt.title('Top 10 most common Go bigrams')"
   ]
  },
  {
   "cell_type": "code",
   "execution_count": null,
   "id": "fc1655de-f4cf-4219-afae-3cf195efd517",
   "metadata": {},
   "outputs": [],
   "source": [
    "# =============================================================================\n",
    "# Python Birgrams\n",
    "# =============================================================================\n",
    "pd.Series(nltk.bigrams(python_words.split())).value_counts().head(10).plot.barh()\n",
    "plt.title('Top 10 most common Python bigrams')"
   ]
  },
  {
   "cell_type": "code",
   "execution_count": null,
   "id": "371df5b3-6828-411e-90ce-1f4f206f564f",
   "metadata": {},
   "outputs": [],
   "source": [
    "# =============================================================================\n",
    "# Java Bigrams\n",
    "# =============================================================================\n",
    "pd.Series(nltk.bigrams(java_words.split())).value_counts().head(10).plot.barh()\n",
    "plt.title('Top 10 most common Java bigrams')"
   ]
  },
  {
   "cell_type": "code",
   "execution_count": null,
   "id": "275759be-2cf3-4aaa-bf34-8d56e9fa4c7b",
   "metadata": {},
   "outputs": [],
   "source": [
    "# =============================================================================\n",
    "# C++ Bigrams\n",
    "# =============================================================================\n",
    "pd.Series(nltk.bigrams(cplus_plus_words.split())).value_counts().head(10).plot.barh()\n",
    "plt.title('Top 10 most common C++ bigrams')"
   ]
  },
  {
   "cell_type": "code",
   "execution_count": null,
   "id": "4b399b62-dea8-4cc7-b4de-f11559b6ff95",
   "metadata": {},
   "outputs": [],
   "source": [
    "# =============================================================================\n",
    "# Javascript Bigrams\n",
    "# =============================================================================\n",
    "pd.Series(nltk.bigrams(javascript_words.split())).value_counts().head(10).plot.barh()\n",
    "plt.title('Top 10 most common Javascript bigrams')"
   ]
  },
  {
   "cell_type": "code",
   "execution_count": null,
   "id": "2738b84f-157a-4628-be2d-7932ca4cd8a9",
   "metadata": {},
   "outputs": [],
   "source": [
    "# =============================================================================\n",
    "# Swift Bigrams\n",
    "# =============================================================================\n",
    "pd.Series(nltk.bigrams(swift_words.split())).value_counts().head(10).plot.barh()\n",
    "plt.title('Top 10 most common Swift bigrams')"
   ]
  },
  {
   "cell_type": "code",
   "execution_count": null,
   "id": "d2ed3335-9904-4017-baf8-f8960bf0b1bd",
   "metadata": {},
   "outputs": [],
   "source": [
    "# =============================================================================\n",
    "# C Bigrams\n",
    "# =============================================================================\n",
    "pd.Series(nltk.bigrams(c_words.split())).value_counts().head(10).plot.barh()\n",
    "plt.title('Top 10 most common C bigrams')"
   ]
  },
  {
   "cell_type": "code",
   "execution_count": 2,
   "id": "308a6a71-0af3-49b9-b801-929852531ad1",
   "metadata": {},
   "outputs": [],
   "source": [
    "import warnings\n",
    "warnings.filterwarnings(\"ignore\")\n",
    "\n",
    "import pandas as pd\n",
    "import numpy as np\n",
    "\n",
    "%matplotlib inline\n",
    "import matplotlib.pyplot as plt\n",
    "import seaborn as sns\n",
    "\n",
    "import eli5\n",
    "\n",
    "from sklearn.linear_model import LogisticRegression\n",
    "from sklearn.dummy import DummyClassifier\n",
    "from sklearn.ensemble import RandomForestClassifier\n",
    "from sklearn.naive_bayes import GaussianNB\n",
    "from sklearn.neighbors import KNeighborsClassifier\n",
    "from sklearn.feature_extraction.text import TfidfVectorizer, CountVectorizer\n",
    "\n",
    "\n",
    "plt.style.use('classic')"
   ]
  },
  {
   "cell_type": "code",
   "execution_count": 3,
   "id": "503b52ca-6f66-4e5b-b699-417c9f5aa459",
   "metadata": {
    "tags": []
   },
   "outputs": [],
   "source": [
    "df = pd.read_csv('data/processed.csv')"
   ]
  },
  {
   "cell_type": "code",
   "execution_count": 4,
   "id": "4e256cb3-65ff-406d-80e0-d0ce21cb20ef",
   "metadata": {},
   "outputs": [
    {
     "data": {
      "text/html": [
       "<div>\n",
       "<style scoped>\n",
       "    .dataframe tbody tr th:only-of-type {\n",
       "        vertical-align: middle;\n",
       "    }\n",
       "\n",
       "    .dataframe tbody tr th {\n",
       "        vertical-align: top;\n",
       "    }\n",
       "\n",
       "    .dataframe thead th {\n",
       "        text-align: right;\n",
       "    }\n",
       "</style>\n",
       "<table border=\"1\" class=\"dataframe\">\n",
       "  <thead>\n",
       "    <tr style=\"text-align: right;\">\n",
       "      <th></th>\n",
       "      <th>repo</th>\n",
       "      <th>language</th>\n",
       "      <th>readme</th>\n",
       "      <th>words</th>\n",
       "      <th>lang_freq</th>\n",
       "    </tr>\n",
       "  </thead>\n",
       "  <tbody>\n",
       "    <tr>\n",
       "      <th>0</th>\n",
       "      <td>/apple/swift</td>\n",
       "      <td>C++</td>\n",
       "      <td>img src https swift org asset imag swift svg a...</td>\n",
       "      <td>1260</td>\n",
       "      <td>100</td>\n",
       "    </tr>\n",
       "    <tr>\n",
       "      <th>1</th>\n",
       "      <td>/openalpr/openalpr</td>\n",
       "      <td>C++</td>\n",
       "      <td>openalpr openalpr open sourc automat licens pl...</td>\n",
       "      <td>622</td>\n",
       "      <td>100</td>\n",
       "    </tr>\n",
       "    <tr>\n",
       "      <th>2</th>\n",
       "      <td>/tensorflow/tensorflow</td>\n",
       "      <td>C++</td>\n",
       "      <td>div align center img src https www tensorflow ...</td>\n",
       "      <td>1216</td>\n",
       "      <td>100</td>\n",
       "    </tr>\n",
       "    <tr>\n",
       "      <th>3</th>\n",
       "      <td>/wjakob/pybind11</td>\n",
       "      <td>C++</td>\n",
       "      <td>pybind logo https github com pybind pybind raw...</td>\n",
       "      <td>610</td>\n",
       "      <td>100</td>\n",
       "    </tr>\n",
       "    <tr>\n",
       "      <th>4</th>\n",
       "      <td>/Polytonic/Chlorine</td>\n",
       "      <td>C++</td>\n",
       "      <td>chlorin http polyton github io chlorin build s...</td>\n",
       "      <td>624</td>\n",
       "      <td>100</td>\n",
       "    </tr>\n",
       "  </tbody>\n",
       "</table>\n",
       "</div>"
      ],
      "text/plain": [
       "                     repo language  \\\n",
       "0            /apple/swift      C++   \n",
       "1      /openalpr/openalpr      C++   \n",
       "2  /tensorflow/tensorflow      C++   \n",
       "3        /wjakob/pybind11      C++   \n",
       "4     /Polytonic/Chlorine      C++   \n",
       "\n",
       "                                              readme  words  lang_freq  \n",
       "0  img src https swift org asset imag swift svg a...   1260        100  \n",
       "1  openalpr openalpr open sourc automat licens pl...    622        100  \n",
       "2  div align center img src https www tensorflow ...   1216        100  \n",
       "3  pybind logo https github com pybind pybind raw...    610        100  \n",
       "4  chlorin http polyton github io chlorin build s...    624        100  "
      ]
     },
     "execution_count": 4,
     "metadata": {},
     "output_type": "execute_result"
    }
   ],
   "source": [
    "df.head()"
   ]
  },
  {
   "cell_type": "markdown",
   "id": "2a6489ed-ac92-4197-b7c0-794af69f9b4c",
   "metadata": {},
   "source": [
    "# Bag of Words"
   ]
  },
  {
   "cell_type": "code",
   "execution_count": 5,
   "id": "e3aa27d7-e3ed-402e-afee-293d6b21f428",
   "metadata": {},
   "outputs": [],
   "source": [
    "cv = CountVectorizer()\n",
    "bag_of_words = cv.fit_transform(df.readme)"
   ]
  },
  {
   "cell_type": "code",
   "execution_count": 6,
   "id": "bff2d98d-d90d-4169-ad8b-b6dc93ffab21",
   "metadata": {},
   "outputs": [
    {
     "data": {
      "text/plain": [
       "matrix([[0, 0, 0, ..., 0, 0, 0],\n",
       "        [0, 0, 0, ..., 0, 0, 0],\n",
       "        [0, 0, 0, ..., 0, 0, 0],\n",
       "        ...,\n",
       "        [0, 0, 0, ..., 0, 0, 0],\n",
       "        [0, 0, 0, ..., 0, 0, 0],\n",
       "        [0, 0, 0, ..., 0, 0, 0]])"
      ]
     },
     "execution_count": 6,
     "metadata": {},
     "output_type": "execute_result"
    }
   ],
   "source": [
    "bag_of_words.todense()"
   ]
  },
  {
   "cell_type": "code",
   "execution_count": 9,
   "id": "a5396d1b-f01b-42fc-a2a8-b9854b8bc420",
   "metadata": {
    "tags": []
   },
   "outputs": [
    {
     "data": {
      "text/plain": [
       "['aa',\n",
       " 'aaa',\n",
       " 'aaaa',\n",
       " 'aaaaaaaaaaaaaa',\n",
       " 'aaaaaaaaaaaaaaa',\n",
       " 'aaaaaaaaaaaaaaaa',\n",
       " 'aaaaaaaacn',\n",
       " 'aaaaaavvvvvxxxxxtttt',\n",
       " 'aaaab',\n",
       " 'aaaabbbbcccc',\n",
       " 'aaaacc',\n",
       " 'aaaaoooooo',\n",
       " 'aaabf',\n",
       " 'aaad',\n",
       " 'aaaffaaaa',\n",
       " 'aab',\n",
       " 'aabc',\n",
       " 'aabqxjyv',\n",
       " 'aac',\n",
       " 'aacaf',\n",
       " 'aacanakin',\n",
       " 'aacb',\n",
       " 'aaccess',\n",
       " 'aacigyxew',\n",
       " 'aad',\n",
       " 'aadadd',\n",
       " 'aadc',\n",
       " 'aadvic',\n",
       " 'aae',\n",
       " 'aaf',\n",
       " 'aafb',\n",
       " 'aaff',\n",
       " 'aagtorr',\n",
       " 'aagxjzrqm',\n",
       " 'aah',\n",
       " 'aalen',\n",
       " 'aan',\n",
       " 'aandroid',\n",
       " 'aanze',\n",
       " 'aap',\n",
       " 'aapcmdackhlfobmkcpplkjpfceihngkh',\n",
       " 'aapl',\n",
       " 'aaplhn',\n",
       " 'aaqobk',\n",
       " 'aar',\n",
       " 'aarch',\n",
       " 'aaron',\n",
       " 'aarono',\n",
       " 'aaronpearc',\n",
       " 'aaronrandal',\n",
       " 'aaronsw',\n",
       " 'aaronvb',\n",
       " 'aarsaeth',\n",
       " 'aas',\n",
       " 'ab',\n",
       " 'aba',\n",
       " 'ababc',\n",
       " 'abacus',\n",
       " 'abandon',\n",
       " 'abb',\n",
       " 'abbaswasim',\n",
       " 'abbba',\n",
       " 'abbc',\n",
       " 'abber',\n",
       " 'abbr',\n",
       " 'abbrev',\n",
       " 'abbrevi',\n",
       " 'abc',\n",
       " 'abd',\n",
       " 'abdol',\n",
       " 'abe',\n",
       " 'abeginn',\n",
       " 'abeiv',\n",
       " 'abel',\n",
       " 'abelhadigit',\n",
       " 'aberr',\n",
       " 'abf',\n",
       " 'abfa',\n",
       " 'abfc',\n",
       " 'abffb',\n",
       " 'abhigupta',\n",
       " 'abhik',\n",
       " 'abhinav',\n",
       " 'abi',\n",
       " 'abid',\n",
       " 'abil',\n",
       " 'abilita',\n",
       " 'abl',\n",
       " 'ablad',\n",
       " 'ableton',\n",
       " 'abletonlinkconfig',\n",
       " 'abnehm',\n",
       " 'abnorm',\n",
       " 'aboard',\n",
       " 'aboc',\n",
       " 'abolz',\n",
       " 'abomin',\n",
       " 'abon',\n",
       " 'aboneliklerinizi',\n",
       " 'abort']"
      ]
     },
     "execution_count": 9,
     "metadata": {},
     "output_type": "execute_result"
    }
   ],
   "source": [
    "cv.get_feature_names()[:100]"
   ]
  },
  {
   "cell_type": "code",
   "execution_count": 13,
   "id": "8ca4f65e-a579-4c24-8b63-1529e5d2bafe",
   "metadata": {
    "tags": []
   },
   "outputs": [
    {
     "data": {
      "text/plain": [
       "[('img', 12394),\n",
       " ('src', 25508),\n",
       " ('https', 11951),\n",
       " ('swift', 26274),\n",
       " ('org', 19426),\n",
       " ('asset', 1565),\n",
       " ('imag', 12334),\n",
       " ('svg', 26237),\n",
       " ('alt', 820),\n",
       " ('logo', 15546),\n",
       " ('height', 11476),\n",
       " ('program', 21210),\n",
       " ('languag', 14565),\n",
       " ('architectur', 1366),\n",
       " ('main', 15921),\n",
       " ('packag', 19681),\n",
       " ('maco', 15855),\n",
       " ('build', 3193),\n",
       " ('status', 25698),\n",
       " ('ci', 4143),\n",
       " ('job', 13579),\n",
       " ('oss', 19494),\n",
       " ('increment', 12504),\n",
       " ('ra', 21904),\n",
       " ('lastcompletedbuild', 14599),\n",
       " ('badg', 1979),\n",
       " ('icon', 12156),\n",
       " ('ubuntu', 28080),\n",
       " ('linux', 15289),\n",
       " ('cento', 3798),\n",
       " ('amazon', 858),\n",
       " ('communiti', 4738),\n",
       " ('host', 11811),\n",
       " ('platform', 20600),\n",
       " ('os', 19455),\n",
       " ('github', 10451),\n",
       " ('com', 4681),\n",
       " ('appl', 1249),\n",
       " ('continu', 4978),\n",
       " ('integr', 12763),\n",
       " ('blob', 2722),\n",
       " ('node', 18333),\n",
       " ('ppc', 20903),\n",
       " ('le', 14727),\n",
       " ('json', 13745),\n",
       " ('extern', 8466),\n",
       " ('aarch', 45),\n",
       " ('docker', 6936),\n",
       " ('android', 969),\n",
       " ('lts', 15716),\n",
       " ('armv', 1433),\n",
       " ('arm', 1424),\n",
       " ('window', 29819),\n",
       " ('vs', 29319),\n",
       " ('welcom', 29658),\n",
       " ('high', 11618),\n",
       " ('perform', 20165),\n",
       " ('system', 26463),\n",
       " ('clean', 4278),\n",
       " ('modern', 17025),\n",
       " ('syntax', 26442),\n",
       " ('offer', 18852),\n",
       " ('seamless', 23837),\n",
       " ('access', 157),\n",
       " ('exist', 8387),\n",
       " ('object', 18751),\n",
       " ('code', 4509),\n",
       " ('framework', 9553),\n",
       " ('memori', 16487),\n",
       " ('safe', 23408),\n",
       " ('default', 6201),\n",
       " ('although', 826),\n",
       " ('inspir', 12726),\n",
       " ('mani', 16010),\n",
       " ('deriv', 6390),\n",
       " ('complet', 4765),\n",
       " ('independ', 12516),\n",
       " ('core', 5067),\n",
       " ('featur', 8795),\n",
       " ('like', 15192),\n",
       " ('flow', 9274),\n",
       " ('control', 4998),\n",
       " ('data', 5836),\n",
       " ('structur', 25962),\n",
       " ('function', 9752),\n",
       " ('level', 14858),\n",
       " ('construct', 4925),\n",
       " ('protocol', 21295),\n",
       " ('closur', 4388),\n",
       " ('generic', 10048),\n",
       " ('embrac', 7827),\n",
       " ('modul', 17035),\n",
       " ('elimin', 7770),\n",
       " ('need', 17845),\n",
       " ('header', 11421),\n",
       " ('duplic', 7334),\n",
       " ('entail', 7994),\n",
       " ('learn', 14745),\n",
       " ('visit', 29161),\n",
       " ('document', 6963)]"
      ]
     },
     "execution_count": 13,
     "metadata": {},
     "output_type": "execute_result"
    }
   ],
   "source": [
    "list(cv.vocabulary_.items())[:100]"
   ]
  },
  {
   "cell_type": "code",
   "execution_count": 14,
   "id": "e4790f61-3139-4380-a216-3f9c9022e79d",
   "metadata": {},
   "outputs": [],
   "source": [
    "tfid = TfidfVectorizer()\n",
    "bag_of_words = tfid.fit_transform(df.readme)"
   ]
  },
  {
   "cell_type": "code",
   "execution_count": 16,
   "id": "844b2a79-b927-4040-8f8a-e4aed35d3e17",
   "metadata": {},
   "outputs": [
    {
     "data": {
      "text/plain": [
       "matrix([[0., 0., 0., ..., 0., 0., 0.],\n",
       "        [0., 0., 0., ..., 0., 0., 0.],\n",
       "        [0., 0., 0., ..., 0., 0., 0.],\n",
       "        ...,\n",
       "        [0., 0., 0., ..., 0., 0., 0.],\n",
       "        [0., 0., 0., ..., 0., 0., 0.],\n",
       "        [0., 0., 0., ..., 0., 0., 0.]])"
      ]
     },
     "execution_count": 16,
     "metadata": {},
     "output_type": "execute_result"
    }
   ],
   "source": [
    "bag_of_words.todense()"
   ]
  },
  {
   "cell_type": "code",
   "execution_count": 18,
   "id": "ee311b17-5621-4cfc-9398-f7c18f92b675",
   "metadata": {
    "tags": []
   },
   "outputs": [
    {
     "data": {
      "text/plain": [
       "['aa',\n",
       " 'aaa',\n",
       " 'aaaa',\n",
       " 'aaaaaaaaaaaaaa',\n",
       " 'aaaaaaaaaaaaaaa',\n",
       " 'aaaaaaaaaaaaaaaa',\n",
       " 'aaaaaaaacn',\n",
       " 'aaaaaavvvvvxxxxxtttt',\n",
       " 'aaaab',\n",
       " 'aaaabbbbcccc',\n",
       " 'aaaacc',\n",
       " 'aaaaoooooo',\n",
       " 'aaabf',\n",
       " 'aaad',\n",
       " 'aaaffaaaa',\n",
       " 'aab',\n",
       " 'aabc',\n",
       " 'aabqxjyv',\n",
       " 'aac',\n",
       " 'aacaf',\n",
       " 'aacanakin',\n",
       " 'aacb',\n",
       " 'aaccess',\n",
       " 'aacigyxew',\n",
       " 'aad',\n",
       " 'aadadd',\n",
       " 'aadc',\n",
       " 'aadvic',\n",
       " 'aae',\n",
       " 'aaf',\n",
       " 'aafb',\n",
       " 'aaff',\n",
       " 'aagtorr',\n",
       " 'aagxjzrqm',\n",
       " 'aah',\n",
       " 'aalen',\n",
       " 'aan',\n",
       " 'aandroid',\n",
       " 'aanze',\n",
       " 'aap',\n",
       " 'aapcmdackhlfobmkcpplkjpfceihngkh',\n",
       " 'aapl',\n",
       " 'aaplhn',\n",
       " 'aaqobk',\n",
       " 'aar',\n",
       " 'aarch',\n",
       " 'aaron',\n",
       " 'aarono',\n",
       " 'aaronpearc',\n",
       " 'aaronrandal',\n",
       " 'aaronsw',\n",
       " 'aaronvb',\n",
       " 'aarsaeth',\n",
       " 'aas',\n",
       " 'ab',\n",
       " 'aba',\n",
       " 'ababc',\n",
       " 'abacus',\n",
       " 'abandon',\n",
       " 'abb',\n",
       " 'abbaswasim',\n",
       " 'abbba',\n",
       " 'abbc',\n",
       " 'abber',\n",
       " 'abbr',\n",
       " 'abbrev',\n",
       " 'abbrevi',\n",
       " 'abc',\n",
       " 'abd',\n",
       " 'abdol',\n",
       " 'abe',\n",
       " 'abeginn',\n",
       " 'abeiv',\n",
       " 'abel',\n",
       " 'abelhadigit',\n",
       " 'aberr',\n",
       " 'abf',\n",
       " 'abfa',\n",
       " 'abfc',\n",
       " 'abffb',\n",
       " 'abhigupta',\n",
       " 'abhik',\n",
       " 'abhinav',\n",
       " 'abi',\n",
       " 'abid',\n",
       " 'abil',\n",
       " 'abilita',\n",
       " 'abl',\n",
       " 'ablad',\n",
       " 'ableton',\n",
       " 'abletonlinkconfig',\n",
       " 'abnehm',\n",
       " 'abnorm',\n",
       " 'aboard',\n",
       " 'aboc',\n",
       " 'abolz',\n",
       " 'abomin',\n",
       " 'abon',\n",
       " 'aboneliklerinizi',\n",
       " 'abort']"
      ]
     },
     "execution_count": 18,
     "metadata": {},
     "output_type": "execute_result"
    }
   ],
   "source": [
    "tfid.get_feature_names()[:100]"
   ]
  },
  {
   "cell_type": "code",
   "execution_count": 20,
   "id": "18fd2550-33aa-4bf2-a051-6fa311fb1402",
   "metadata": {},
   "outputs": [
    {
     "data": {
      "text/plain": [
       "icij                                     6.860786\n",
       "iconifi                                  6.860786\n",
       "ichinaski                                6.860786\n",
       "ichait                                   6.860786\n",
       "icg                                      6.860786\n",
       "icerik                                   6.860786\n",
       "icerigi                                  6.860786\n",
       "icepa                                    6.860786\n",
       "iceland                                  6.860786\n",
       "iceimg                                   6.860786\n",
       "icedotaku                                6.860786\n",
       "icecreamtruckday                         6.860786\n",
       "icecreamday                              6.860786\n",
       "ichart                                   6.860786\n",
       "zzzzzzzzzzzzzzzzzzzzzzzzzbbbbddddllll    6.860786\n",
       "dtype: float64"
      ]
     },
     "execution_count": 20,
     "metadata": {},
     "output_type": "execute_result"
    }
   ],
   "source": [
    "#idf score. The higher the score, the more relevant that word is in that particular document. \n",
    "pd.Series(dict(zip(tfid.get_feature_names(), tfid.idf_))).sort_values().tail(15)"
   ]
  },
  {
   "cell_type": "markdown",
   "id": "7b4d6c05-5b98-4dc7-b18c-550a9e63a27a",
   "metadata": {},
   "source": [
    "# Bag of Ngrams"
   ]
  },
  {
   "cell_type": "code",
   "execution_count": 21,
   "id": "7fc09735-4d10-4cdc-8f9f-863b1ef20c74",
   "metadata": {},
   "outputs": [],
   "source": [
    "tfid = TfidfVectorizer(ngram_range=(2, 2))\n",
    "bag_of_words = tfid.fit_transform(df.readme)"
   ]
  },
  {
   "cell_type": "code",
   "execution_count": 23,
   "id": "ed5555bb-d65d-4901-bc29-031d7582bb76",
   "metadata": {},
   "outputs": [
    {
     "data": {
      "text/plain": [
       "get bool                                                                       6.860786\n",
       "get book                                                                       6.860786\n",
       "get boilerpl                                                                   6.860786\n",
       "get blurri                                                                     6.860786\n",
       "get block                                                                      6.860786\n",
       "get bug                                                                        6.860786\n",
       "get blob                                                                       6.860786\n",
       "get black                                                                      6.860786\n",
       "get bitmask                                                                    6.860786\n",
       "get bite                                                                       6.860786\n",
       "get bigger                                                                     6.860786\n",
       "get benefit                                                                    6.860786\n",
       "get begin                                                                      6.860786\n",
       "get blank                                                                      6.860786\n",
       "zzzzzzzzzzzzzzzzzzzzzzzzzbbbbddddllll zzzzzzzzzzzzzzzzzzzzzzzzzbbbbddddllll    6.860786\n",
       "dtype: float64"
      ]
     },
     "execution_count": 23,
     "metadata": {},
     "output_type": "execute_result"
    }
   ],
   "source": [
    "#idf score\n",
    "pd.Series(dict(zip(tfid.get_feature_names(), tfid.idf_))).sort_values().tail(15)"
   ]
  },
  {
   "cell_type": "markdown",
   "id": "f2f4813b-f2f5-4bdb-88b0-3cd4bf2d9199",
   "metadata": {},
   "source": [
    "# Modeling"
   ]
  },
  {
   "cell_type": "code",
   "execution_count": 24,
   "id": "816ad77a-af27-4262-b26b-2fbe43af4a73",
   "metadata": {},
   "outputs": [],
   "source": [
    "from sklearn.model_selection import train_test_split\n",
    "from sklearn.tree import DecisionTreeClassifier"
   ]
  },
  {
   "cell_type": "code",
   "execution_count": 25,
   "id": "2836d8eb-b64f-430b-8fa7-b2ace8e58d60",
   "metadata": {},
   "outputs": [
    {
     "data": {
      "text/html": [
       "<div>\n",
       "<style scoped>\n",
       "    .dataframe tbody tr th:only-of-type {\n",
       "        vertical-align: middle;\n",
       "    }\n",
       "\n",
       "    .dataframe tbody tr th {\n",
       "        vertical-align: top;\n",
       "    }\n",
       "\n",
       "    .dataframe thead th {\n",
       "        text-align: right;\n",
       "    }\n",
       "</style>\n",
       "<table border=\"1\" class=\"dataframe\">\n",
       "  <thead>\n",
       "    <tr style=\"text-align: right;\">\n",
       "      <th></th>\n",
       "      <th>repo</th>\n",
       "      <th>language</th>\n",
       "      <th>readme</th>\n",
       "      <th>words</th>\n",
       "      <th>lang_freq</th>\n",
       "    </tr>\n",
       "  </thead>\n",
       "  <tbody>\n",
       "    <tr>\n",
       "      <th>0</th>\n",
       "      <td>/apple/swift</td>\n",
       "      <td>C++</td>\n",
       "      <td>img src https swift org asset imag swift svg a...</td>\n",
       "      <td>1260</td>\n",
       "      <td>100</td>\n",
       "    </tr>\n",
       "    <tr>\n",
       "      <th>1</th>\n",
       "      <td>/openalpr/openalpr</td>\n",
       "      <td>C++</td>\n",
       "      <td>openalpr openalpr open sourc automat licens pl...</td>\n",
       "      <td>622</td>\n",
       "      <td>100</td>\n",
       "    </tr>\n",
       "    <tr>\n",
       "      <th>2</th>\n",
       "      <td>/tensorflow/tensorflow</td>\n",
       "      <td>C++</td>\n",
       "      <td>div align center img src https www tensorflow ...</td>\n",
       "      <td>1216</td>\n",
       "      <td>100</td>\n",
       "    </tr>\n",
       "    <tr>\n",
       "      <th>3</th>\n",
       "      <td>/wjakob/pybind11</td>\n",
       "      <td>C++</td>\n",
       "      <td>pybind logo https github com pybind pybind raw...</td>\n",
       "      <td>610</td>\n",
       "      <td>100</td>\n",
       "    </tr>\n",
       "    <tr>\n",
       "      <th>4</th>\n",
       "      <td>/Polytonic/Chlorine</td>\n",
       "      <td>C++</td>\n",
       "      <td>chlorin http polyton github io chlorin build s...</td>\n",
       "      <td>624</td>\n",
       "      <td>100</td>\n",
       "    </tr>\n",
       "  </tbody>\n",
       "</table>\n",
       "</div>"
      ],
      "text/plain": [
       "                     repo language  \\\n",
       "0            /apple/swift      C++   \n",
       "1      /openalpr/openalpr      C++   \n",
       "2  /tensorflow/tensorflow      C++   \n",
       "3        /wjakob/pybind11      C++   \n",
       "4     /Polytonic/Chlorine      C++   \n",
       "\n",
       "                                              readme  words  lang_freq  \n",
       "0  img src https swift org asset imag swift svg a...   1260        100  \n",
       "1  openalpr openalpr open sourc automat licens pl...    622        100  \n",
       "2  div align center img src https www tensorflow ...   1216        100  \n",
       "3  pybind logo https github com pybind pybind raw...    610        100  \n",
       "4  chlorin http polyton github io chlorin build s...    624        100  "
      ]
     },
     "execution_count": 25,
     "metadata": {},
     "output_type": "execute_result"
    }
   ],
   "source": [
    "df.head()"
   ]
  },
  {
   "cell_type": "code",
   "execution_count": 26,
   "id": "831eb717-cdd6-4ca5-9799-fa09433faaa8",
   "metadata": {},
   "outputs": [],
   "source": [
    "X = df.readme\n",
    "y = df.language\n",
    "\n",
    "X_train, X_test, y_train, y_test = train_test_split(X, y, test_size=.2, random_state=12)"
   ]
  },
  {
   "cell_type": "code",
   "execution_count": 27,
   "id": "12e3c613-2390-426d-8e3b-db9efb4ae03a",
   "metadata": {},
   "outputs": [
    {
     "data": {
      "text/plain": [
       "0.6892857142857143"
      ]
     },
     "execution_count": 27,
     "metadata": {},
     "output_type": "execute_result"
    }
   ],
   "source": [
    "cv = CountVectorizer()\n",
    "X_bow = cv.fit_transform(X_train)\n",
    "tree = DecisionTreeClassifier(max_depth=5)\n",
    "tree.fit(X_bow, y_train)\n",
    "\n",
    "tree.score(X_bow, y_train)\n",
    "# Return the mean accuracy on the given test data and labels"
   ]
  },
  {
   "cell_type": "code",
   "execution_count": 28,
   "id": "40454ad0-dcf3-495a-8eaa-820f9e119dc1",
   "metadata": {},
   "outputs": [
    {
     "data": {
      "text/plain": [
       "0.7267857142857143"
      ]
     },
     "execution_count": 28,
     "metadata": {},
     "output_type": "execute_result"
    }
   ],
   "source": [
    "tfidf = TfidfVectorizer()\n",
    "X_tfidf = tfidf.fit_transform(X_train)\n",
    "tree.fit(X_tfidf, y_train)\n",
    "tree.score(X_tfidf, y_train)\n",
    "# Return the mean accuracy on the given test data and labels"
   ]
  },
  {
   "cell_type": "code",
   "execution_count": 29,
   "id": "1d568a73-bb70-422c-bb3d-b7497c8c02d0",
   "metadata": {},
   "outputs": [
    {
     "data": {
      "text/plain": [
       "0.5460992907801419"
      ]
     },
     "execution_count": 29,
     "metadata": {},
     "output_type": "execute_result"
    }
   ],
   "source": [
    "# Whatever transformations we apply to X_train need to be applied to X_test\n",
    "tree.score(tfidf.transform(X_test), y_test)"
   ]
  },
  {
   "cell_type": "code",
   "execution_count": 30,
   "id": "e37dfc63-d17d-4def-82fb-a45bae783593",
   "metadata": {},
   "outputs": [
    {
     "data": {
      "text/plain": [
       "<AxesSubplot:>"
      ]
     },
     "execution_count": 30,
     "metadata": {},
     "output_type": "execute_result"
    },
    {
     "data": {
      "image/png": "[encoded data removed]",
      "text/plain": [
       "<Figure size 640x480 with 1 Axes>"
      ]
     },
     "metadata": {},
     "output_type": "display_data"
    }
   ],
   "source": [
    "pd.Series(dict(zip(cv.get_feature_names(), tree.feature_importances_))).sort_values().head(10).plot()"
   ]
  },
  {
   "cell_type": "code",
   "execution_count": 31,
   "id": "dfa75323-9b95-420d-94c3-da26231dccdf",
   "metadata": {},
   "outputs": [
    {
     "data": {
      "text/plain": [
       "<AxesSubplot:>"
      ]
     },
     "execution_count": 31,
     "metadata": {},
     "output_type": "execute_result"
    },
    {
     "data": {
      "image/png": "[encoded data removed]",
      "text/plain": [
       "<Figure size 640x480 with 1 Axes>"
      ]
     },
     "metadata": {},
     "output_type": "display_data"
    }
   ],
   "source": [
    "pd.Series(dict(zip(cv.get_feature_names(), tree.feature_importances_))).sort_values().tail(10).plot()"
   ]
  },
  {
   "cell_type": "code",
   "execution_count": null,
   "id": "34af851e-789b-4e54-b610-6254ffd067b6",
   "metadata": {},
   "outputs": [],
   "source": []
  },
  {
   "cell_type": "code",
   "execution_count": null,
   "id": "421966aa-fb5d-4df0-a3ad-658a525a92d2",
   "metadata": {},
   "outputs": [],
   "source": [
    "import warnings\n",
    "warnings.filterwarnings(\"ignore\")\n",
    "\n",
    "import pandas as pd\n",
    "import numpy as np\n",
    "%matplotlib inline\n",
    "import matplotlib.pyplot as plt\n",
    "import seaborn as sns\n",
    "\n",
    "import eli5\n",
    "\n",
    "from sklearn.model_selection import cross_val_score\n",
    "from sklearn.metrics import classification_report, plot_confusion_matrix\n",
    "from sklearn.model_selection import train_test_split\n",
    "\n",
    "from sklearn.linear_model import LogisticRegression\n",
    "from sklearn.dummy import DummyClassifier\n",
    "from sklearn.ensemble import RandomForestClassifier\n",
    "from sklearn.naive_bayes import GaussianNB\n",
    "from sklearn.neighbors import KNeighborsClassifier\n",
    "from sklearn.feature_extraction.text import TfidfVectorizer\n",
    "\n",
    "plt.style.use('classic')\n",
    "plt.rcParams['figure.figsize'] = (8,8)\n",
    "cmap_train, cmap_test = \"bone\", \"plasma\""
   ]
  },
  {
   "cell_type": "markdown",
   "id": "122e535e-4e38-43e3-ba1e-b8855508c614",
   "metadata": {},
   "source": [
    "## Classification"
   ]
  },
  {
   "cell_type": "code",
   "execution_count": null,
   "id": "e4038967-1e54-424d-967d-162831bf869e",
   "metadata": {},
   "outputs": [],
   "source": [
    "df = pd.read_csv('data/processed.csv')\n",
    "X_train, X_test, y_train, y_test = train_test_split(df.readme, df.language,\n",
    "                    test_size=.22, random_state=0, stratify=df.language)\n",
    "print(df.info())"
   ]
  },
  {
   "cell_type": "code",
   "execution_count": null,
   "id": "1059df3d-a75b-47af-a084-3ea16d8be4c8",
   "metadata": {},
   "outputs": [],
   "source": [
    "df.language.value_counts()"
   ]
  },
  {
   "cell_type": "markdown",
   "id": "b6018d6a-39b4-49f1-80b0-10f2519a122f",
   "metadata": {},
   "source": [
    "### Dummy (baseline)"
   ]
  },
  {
   "cell_type": "code",
   "execution_count": null,
   "id": "9a56697b-96f7-4628-88cc-dc314744580b",
   "metadata": {},
   "outputs": [],
   "source": [
    "clf = DummyClassifier(strategy='stratified', random_state=2)\n",
    "clf.fit(X_train, y_train)\n",
    "print(classification_report(y_train, clf.predict(X_train)))\n",
    "plot_confusion_matrix(clf, X_train, y_train, values_format='.0f', cmap=cmap_train)   "
   ]
  },
  {
   "cell_type": "code",
   "execution_count": null,
   "id": "e6e2bf56-f0c7-4b98-961d-c44d9be9bb50",
   "metadata": {},
   "outputs": [],
   "source": [
    "def report_and_conf_matrix(clf, X, y, cmap=cmap_train):\n",
    "    scores = cross_val_score(estimator=clf, X=X, y=y)\n",
    "    print(\"-------MAXIMIZE THIS-------\\nCross-validation mean accuracy: %0.3f (stdev %0.3f)\\n---------------------------\" % (scores.mean(), scores.std()))\n",
    "    print(np.round(scores,3))\n",
    "    print(classification_report(y, clf.predict(X)))\n",
    "    plot_confusion_matrix(clf, X, y, values_format='.0f', cmap=cmap)"
   ]
  },
  {
   "cell_type": "markdown",
   "id": "8230c8e5-5495-456d-85dd-57dfa6305ceb",
   "metadata": {},
   "source": [
    "### Naive Bayes"
   ]
  },
  {
   "cell_type": "code",
   "execution_count": null,
   "id": "ca7ae728-7e08-4a36-a6fe-cd7718385376",
   "metadata": {},
   "outputs": [],
   "source": [
    "nb_clf = GaussianNB()\n",
    "nb_vec = TfidfVectorizer(max_features=800)\n",
    "X = nb_vec.fit_transform(X_train)\n",
    "nb_clf.fit(X.todense(), y_train)\n",
    "\n",
    "report_and_conf_matrix(nb_clf, X=X.todense(), y=y_train)"
   ]
  },
  {
   "cell_type": "markdown",
   "id": "2ca950bb-a148-447a-a223-26c44d7ee4e9",
   "metadata": {},
   "source": [
    "### Logistic regression"
   ]
  },
  {
   "cell_type": "code",
   "execution_count": null,
   "id": "845f1fb1-4226-417b-a58a-249e540afd2d",
   "metadata": {},
   "outputs": [],
   "source": [
    "lr_clf = LogisticRegression(C=3)\n",
    "lr_vec = TfidfVectorizer(max_features=900)\n",
    "X = lr_vec.fit_transform(X_train)\n",
    "lr_clf.fit(X, y_train)\n",
    "\n",
    "report_and_conf_matrix(lr_clf, X=X, y=y_train)"
   ]
  },
  {
   "cell_type": "markdown",
   "id": "08a66618-185a-44e3-a150-1f3cb60957a0",
   "metadata": {},
   "source": [
    "### kNN"
   ]
  },
  {
   "cell_type": "code",
   "execution_count": null,
   "id": "bd9ddc7e-3b97-4777-acf1-0ed848e15b16",
   "metadata": {},
   "outputs": [],
   "source": [
    "knn_clf = KNeighborsClassifier(n_neighbors=10)\n",
    "knn_vec = TfidfVectorizer(max_features=1200)\n",
    "X = knn_vec.fit_transform(X_train)\n",
    "knn_clf.fit(X, y_train)\n",
    "\n",
    "report_and_conf_matrix(knn_clf, X=X, y=y_train)"
   ]
  },
  {
   "cell_type": "markdown",
   "id": "70f7b558-bd8b-45e9-aa4b-5c05be852f3c",
   "metadata": {},
   "source": [
    "### Random forest"
   ]
  },
  {
   "cell_type": "code",
   "execution_count": null,
   "id": "448ca0dd-162d-41fe-9856-b047a1698e54",
   "metadata": {},
   "outputs": [],
   "source": [
    "rf_clf = RandomForestClassifier(n_estimators=125,\n",
    "                                max_depth=20,\n",
    "                                random_state=36)\n",
    "rf_vec = TfidfVectorizer(min_df=15, max_df=.35)\n",
    "X = rf_vec.fit_transform(X_train)\n",
    "rf_clf.fit(X, y_train)\n",
    "\n",
    "report_and_conf_matrix(rf_clf, X=X, y=y_train)"
   ]
  },
  {
   "cell_type": "code",
   "execution_count": null,
   "id": "7bc488d0-c7b2-454b-8c8f-294b36fb8a06",
   "metadata": {},
   "outputs": [],
   "source": [
    "eli5.explain_weights(rf_clf, feature_names=list(rf_vec.vocabulary_.keys()))"
   ]
  },
  {
   "cell_type": "markdown",
   "id": "468470cc-8d50-46ef-b816-6fd053d7ea21",
   "metadata": {},
   "source": [
    "### Test set"
   ]
  },
  {
   "cell_type": "code",
   "execution_count": null,
   "id": "eef063d5-2c91-4314-95cd-7a954e53fe7d",
   "metadata": {},
   "outputs": [],
   "source": [
    "X = TfidfVectorizer(vocabulary=rf_vec.vocabulary_).fit_transform(X_test)\n",
    "report_and_conf_matrix(rf_clf, X=X, y=y_test, cmap=cmap_test)"
   ]
  },
  {
   "cell_type": "code",
   "execution_count": null,
   "id": "c9ae50fc-e765-4b1f-8430-e7a5cc38c2ef",
   "metadata": {},
   "outputs": [],
   "source": [
    "#dummy classifier\n",
    "report_and_conf_matrix(clf, X=X, y=y_test, cmap=cmap_test)"
   ]
  },
  {
   "cell_type": "code",
   "execution_count": null,
   "id": "bae82cab-b04e-4770-a3ce-c4db8f34c357",
   "metadata": {},
   "outputs": [],
   "source": []
  }
 ],
 "metadata": {
  "kernelspec": {
   "display_name": "Python 3",
   "language": "python",
   "name": "python3"
  },
  "language_info": {
   "codemirror_mode": {
    "name": "ipython",
    "version": 3
   },
   "file_extension": ".py",
   "mimetype": "text/x-python",
   "name": "python",
   "nbconvert_exporter": "python",
   "pygments_lexer": "ipython3",
   "version": "3.8.8"
  }
 },
 "nbformat": 4,
 "nbformat_minor": 5
}

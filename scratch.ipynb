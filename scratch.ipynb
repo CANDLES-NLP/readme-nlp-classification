{
 "cells": [
  {
   "cell_type": "code",
   "execution_count": 10,
   "id": "cac045a0-edc8-4172-91a0-3a3fcfeae97c",
   "metadata": {},
   "outputs": [],
   "source": [
    "from src import acquire, prepare"
   ]
  },
  {
   "cell_type": "code",
   "execution_count": 5,
   "id": "eb8df987-9ace-4bf2-a67c-4e2fb8d58c76",
   "metadata": {},
   "outputs": [
    {
     "data": {
      "text/plain": [
       "'157.230.209.171'"
      ]
     },
     "execution_count": 5,
     "metadata": {},
     "output_type": "execute_result"
    }
   ],
   "source": []
  },
  {
   "cell_type": "code",
   "execution_count": null,
   "id": "e2fb2736-d278-4f4e-acd4-f43f919bbf91",
   "metadata": {},
   "outputs": [],
   "source": []
  }
 ],
 "metadata": {
  "kernelspec": {
   "display_name": "Python 3",
   "language": "python",
   "name": "python3"
  },
  "language_info": {
   "codemirror_mode": {
    "name": "ipython",
    "version": 3
   },
   "file_extension": ".py",
   "mimetype": "text/x-python",
   "name": "python",
   "nbconvert_exporter": "python",
   "pygments_lexer": "ipython3",
   "version": "3.8.8"
  }
 },
 "nbformat": 4,
 "nbformat_minor": 5
}
